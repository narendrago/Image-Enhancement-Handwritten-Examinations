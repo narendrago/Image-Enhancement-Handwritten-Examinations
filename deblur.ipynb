{
 "cells": [
  {
   "cell_type": "code",
   "execution_count": 2,
   "id": "8c4ea880",
   "metadata": {},
   "outputs": [
    {
     "name": "stdout",
     "output_type": "stream",
     "text": [
      "Collecting opencv-python\n",
      "  Using cached opencv_python-4.5.5.64-cp36-abi3-macosx_10_15_x86_64.whl (46.3 MB)\n",
      "Requirement already satisfied: numpy>=1.14.5 in /Users/narendraomprakash/opt/anaconda3/lib/python3.9/site-packages (from opencv-python) (1.20.3)\n",
      "Installing collected packages: opencv-python\n",
      "Successfully installed opencv-python-4.5.5.64\n",
      "Collecting torch\n",
      "  Using cached torch-1.11.0-cp39-none-macosx_10_9_x86_64.whl (129.9 MB)\n",
      "Collecting torchvision\n",
      "  Using cached torchvision-0.12.0-cp39-cp39-macosx_10_9_x86_64.whl (1.2 MB)\n",
      "Requirement already satisfied: typing-extensions in /Users/narendraomprakash/opt/anaconda3/lib/python3.9/site-packages (from torch) (3.10.0.2)\n",
      "Requirement already satisfied: pillow!=8.3.*,>=5.3.0 in /Users/narendraomprakash/opt/anaconda3/lib/python3.9/site-packages (from torchvision) (8.4.0)\n",
      "Requirement already satisfied: numpy in /Users/narendraomprakash/opt/anaconda3/lib/python3.9/site-packages (from torchvision) (1.20.3)\n",
      "Requirement already satisfied: requests in /Users/narendraomprakash/opt/anaconda3/lib/python3.9/site-packages (from torchvision) (2.26.0)\n",
      "Requirement already satisfied: urllib3<1.27,>=1.21.1 in /Users/narendraomprakash/opt/anaconda3/lib/python3.9/site-packages (from requests->torchvision) (1.26.7)\n",
      "Requirement already satisfied: idna<4,>=2.5 in /Users/narendraomprakash/opt/anaconda3/lib/python3.9/site-packages (from requests->torchvision) (3.2)\n",
      "Requirement already satisfied: certifi>=2017.4.17 in /Users/narendraomprakash/opt/anaconda3/lib/python3.9/site-packages (from requests->torchvision) (2021.10.8)\n",
      "Requirement already satisfied: charset-normalizer~=2.0.0 in /Users/narendraomprakash/opt/anaconda3/lib/python3.9/site-packages (from requests->torchvision) (2.0.4)\n",
      "Installing collected packages: torch, torchvision\n",
      "Successfully installed torch-1.11.0 torchvision-0.12.0\n",
      "Requirement already satisfied: scikit-learn in /Users/narendraomprakash/opt/anaconda3/lib/python3.9/site-packages (0.24.2)\n",
      "Requirement already satisfied: numpy>=1.13.3 in /Users/narendraomprakash/opt/anaconda3/lib/python3.9/site-packages (from scikit-learn) (1.20.3)\n",
      "Requirement already satisfied: joblib>=0.11 in /Users/narendraomprakash/opt/anaconda3/lib/python3.9/site-packages (from scikit-learn) (1.1.0)\n",
      "Requirement already satisfied: threadpoolctl>=2.0.0 in /Users/narendraomprakash/opt/anaconda3/lib/python3.9/site-packages (from scikit-learn) (2.2.0)\n",
      "Requirement already satisfied: scipy>=0.19.1 in /Users/narendraomprakash/opt/anaconda3/lib/python3.9/site-packages (from scikit-learn) (1.7.1)\n",
      "Requirement already satisfied: tqdm in /Users/narendraomprakash/opt/anaconda3/lib/python3.9/site-packages (4.62.3)\n"
     ]
    }
   ],
   "source": [
    "!pip install opencv-python\n",
    "!pip install torch torchvision\n",
    "!pip install scikit-learn\n",
    "!pip install tqdm"
   ]
  },
  {
   "cell_type": "code",
   "execution_count": 1,
   "id": "f044723c",
   "metadata": {},
   "outputs": [],
   "source": [
    "import numpy as np\n",
    "import os\n",
    "import matplotlib.pyplot as plt\n",
    "import glob\n",
    "import cv2\n",
    "import torch\n",
    "import torchvision\n",
    "import torch.nn as nn\n",
    "import torch.nn.functional as F\n",
    "import torch.optim as optim\n",
    "import time\n",
    "import argparse\n",
    "from tqdm import tqdm\n",
    "from torch.utils.data import Dataset, DataLoader\n",
    "from torchvision.transforms import transforms\n",
    "from torchvision.utils import save_image\n",
    "from sklearn.model_selection import train_test_split\n",
    "from PIL import Image"
   ]
  },
  {
   "cell_type": "code",
   "execution_count": 2,
   "id": "11e854e7",
   "metadata": {},
   "outputs": [],
   "source": [
    "def save_decoded_image(img, name):\n",
    "    img = img.view(img.size(0), 3, 224, 224)\n",
    "    save_image(img, name)"
   ]
  },
  {
   "cell_type": "code",
   "execution_count": 3,
   "id": "df9a28ce",
   "metadata": {},
   "outputs": [
    {
     "name": "stdout",
     "output_type": "stream",
     "text": [
      "cpu\n"
     ]
    }
   ],
   "source": [
    "image_dir = '/Users/narendraomprakash/Desktop/Narendra/Semester-VI-WINTER2021/Image Processing/JCOM/Datasets/HK_dataset/Deblurring-3/saved_images'\n",
    "os.makedirs(image_dir, exist_ok=True)\n",
    "device = 'cuda:0' if torch.cuda.is_available() else 'cpu'\n",
    "print(device)\n",
    "batch_size = 2"
   ]
  },
  {
   "cell_type": "code",
   "execution_count": 4,
   "id": "48241db3",
   "metadata": {},
   "outputs": [],
   "source": [
    "gauss_blur = os.listdir('/Users/narendraomprakash/Desktop/Narendra/Semester-VI-WINTER2021/Image Processing/JCOM/Datasets/HK_dataset/Deblurring-3/gaussian_blurred')\n",
    "gauss_blur.sort()\n",
    "sharp = os.listdir('/Users/narendraomprakash/Desktop/Narendra/Semester-VI-WINTER2021/Image Processing/JCOM/Datasets/HK_dataset/img')\n",
    "sharp.sort()\n",
    "x_blur = []\n",
    "for i in range(len(gauss_blur)):\n",
    "    x_blur.append(gauss_blur[i])\n",
    "y_sharp = []\n",
    "for i in range(len(sharp)):\n",
    "    y_sharp.append(sharp[i])"
   ]
  },
  {
   "cell_type": "code",
   "execution_count": 5,
   "id": "bb57f2a2",
   "metadata": {},
   "outputs": [
    {
     "name": "stdout",
     "output_type": "stream",
     "text": [
      "Train data instances: 105266\n",
      "Validation data instances: 35089\n"
     ]
    }
   ],
   "source": [
    "#75-25 split\n",
    "(x_train, x_val, y_train, y_val) = train_test_split(x_blur, y_sharp, test_size=0.25)\n",
    "print(f\"Train data instances: {len(x_train)}\")\n",
    "print(f\"Validation data instances: {len(x_val)}\")"
   ]
  },
  {
   "cell_type": "code",
   "execution_count": 6,
   "id": "e640ee5d",
   "metadata": {},
   "outputs": [],
   "source": [
    "# convert to PIL->Resize to 224x224->image tensors\n",
    "transform = transforms.Compose([\n",
    "    transforms.ToPILImage(),\n",
    "    transforms.Resize((224, 224)),\n",
    "    transforms.ToTensor(),\n",
    "])"
   ]
  },
  {
   "cell_type": "code",
   "execution_count": 7,
   "id": "57d42a7d",
   "metadata": {},
   "outputs": [],
   "source": [
    "class DeblurDataset(Dataset):\n",
    "    def __init__(self, blur_paths, sharp_paths=None, transforms=None):\n",
    "        self.X = blur_paths\n",
    "        self.y = sharp_paths\n",
    "        self.transforms = transforms\n",
    "         \n",
    "    def __len__(self):\n",
    "        return (len(self.X))\n",
    "    \n",
    "    def __getitem__(self, i):\n",
    "        blur_image = cv2.imread(f\"/Users/narendraomprakash/Desktop/Narendra/Semester-VI-WINTER2021/Image Processing/JCOM/Datasets/HK_dataset/Deblurring-3/gaussian_blurred/{self.X[i]}\")\n",
    "        \n",
    "        if self.transforms:\n",
    "            blur_image = self.transforms(blur_image)\n",
    "            \n",
    "        if self.y is not None:\n",
    "            sharp_image = cv2.imread(f\"/Users/narendraomprakash/Desktop/Narendra/Semester-VI-WINTER2021/Image Processing/JCOM/Datasets/HK_dataset/img/{self.y[i]}\")\n",
    "            sharp_image = self.transforms(sharp_image)\n",
    "            return (blur_image, sharp_image)\n",
    "        else:\n",
    "            return blur_image"
   ]
  },
  {
   "cell_type": "code",
   "execution_count": 8,
   "id": "3c90dc7f",
   "metadata": {},
   "outputs": [],
   "source": [
    "train_data = DeblurDataset(x_train, y_train, transform)\n",
    "val_data = DeblurDataset(x_val, y_val, transform)"
   ]
  },
  {
   "cell_type": "code",
   "execution_count": 9,
   "id": "868d8d30",
   "metadata": {},
   "outputs": [],
   "source": [
    "trainloader = DataLoader(train_data, batch_size=batch_size, shuffle=True)\n",
    "valloader = DataLoader(val_data, batch_size=batch_size, shuffle=False)"
   ]
  },
  {
   "cell_type": "code",
   "execution_count": 10,
   "id": "a09d6be1",
   "metadata": {},
   "outputs": [
    {
     "name": "stdout",
     "output_type": "stream",
     "text": [
      "DeblurCNN(\n",
      "  (conv1): Conv2d(3, 64, kernel_size=(9, 9), stride=(1, 1), padding=(2, 2))\n",
      "  (conv2): Conv2d(64, 32, kernel_size=(1, 1), stride=(1, 1), padding=(2, 2))\n",
      "  (conv3): Conv2d(32, 3, kernel_size=(5, 5), stride=(1, 1), padding=(2, 2))\n",
      ")\n"
     ]
    }
   ],
   "source": [
    "class DeblurCNN(nn.Module):\n",
    "    def __init__(self):\n",
    "        super(DeblurCNN, self).__init__()\n",
    "        self.conv1 = nn.Conv2d(3, 64, kernel_size=9, padding=2)\n",
    "        self.conv2 = nn.Conv2d(64, 32, kernel_size=1, padding=2)\n",
    "        self.conv3 = nn.Conv2d(32, 3, kernel_size=5, padding=2)\n",
    "    def forward(self, x):\n",
    "        x = F.relu(self.conv1(x))\n",
    "        x = F.relu(self.conv2(x))\n",
    "        x = self.conv3(x)\n",
    "        return x\n",
    "model = DeblurCNN().to(device)\n",
    "print(model)"
   ]
  },
  {
   "cell_type": "code",
   "execution_count": 11,
   "id": "b5f4d651",
   "metadata": {},
   "outputs": [],
   "source": [
    "criterion = nn.MSELoss()"
   ]
  },
  {
   "cell_type": "code",
   "execution_count": 12,
   "id": "e152478f",
   "metadata": {},
   "outputs": [],
   "source": [
    "optimizer = optim.Adam(model.parameters(), lr=0.001)\n",
    "scheduler = torch.optim.lr_scheduler.ReduceLROnPlateau( \n",
    "        optimizer,\n",
    "        mode='min',\n",
    "        patience=5,\n",
    "        factor=0.5,\n",
    "        verbose=True\n",
    "    )"
   ]
  },
  {
   "cell_type": "code",
   "execution_count": 13,
   "id": "bf735153",
   "metadata": {},
   "outputs": [],
   "source": [
    "def fit(model, dataloader, epoch):\n",
    "    model.train()\n",
    "    running_loss = 0.0\n",
    "    for i, data in tqdm(enumerate(dataloader), total=int(len(train_data)/dataloader.batch_size)):\n",
    "        blur_image = data[0]\n",
    "        sharp_image = data[1]\n",
    "        blur_image = blur_image.to(device)\n",
    "        sharp_image = sharp_image.to(device)\n",
    "        optimizer.zero_grad()\n",
    "        outputs = model(blur_image)\n",
    "        loss = criterion(outputs, sharp_image)\n",
    "        # backpropagation\n",
    "        loss.backward()\n",
    "        # update the parameters\n",
    "        optimizer.step()\n",
    "        running_loss += loss.item()\n",
    "    \n",
    "    train_loss = running_loss/len(dataloader.dataset)\n",
    "    print(f\"Train Loss: {train_loss:.5f}\")\n",
    "    \n",
    "    return train_loss"
   ]
  },
  {
   "cell_type": "code",
   "execution_count": 14,
   "id": "39546fe4",
   "metadata": {},
   "outputs": [],
   "source": [
    "def validate(model, dataloader, epoch):\n",
    "    model.eval()\n",
    "    running_loss = 0.0\n",
    "    with torch.no_grad():\n",
    "        for i, data in tqdm(enumerate(dataloader), total=int(len(val_data)/dataloader.batch_size)):\n",
    "            blur_image = data[0]\n",
    "            sharp_image = data[1]\n",
    "            blur_image = blur_image.to(device)\n",
    "            sharp_image = sharp_image.to(device)\n",
    "            outputs = model(blur_image)\n",
    "            loss = criterion(outputs, sharp_image)\n",
    "            running_loss += loss.item()\n",
    "            if epoch == 0 and i == int((len(val_data)/dataloader.batch_size)-1):\n",
    "                save_decoded_image(sharp_image.cpu().data, name=f\"/Users/narendraomprakash/Desktop/Narendra/Semester-VI-WINTER2021/Image Processing/JCOM/Datasets/HK_dataset/Deblurring-3/saved_images/sharp{epoch}.jpg\")\n",
    "                save_decoded_image(blur_image.cpu().data, name=f\"/Users/narendraomprakash/Desktop/Narendra/Semester-VI-WINTER2021/Image Processing/JCOM/Datasets/HK_dataset/Deblurring-3/saved_images/blur{epoch}.jpg\")\n",
    "            if i == int((len(val_data)/dataloader.batch_size)-1):\n",
    "                save_decoded_image(outputs.cpu().data, name=f\"/Users/narendraomprakash/Desktop/Narendra/Semester-VI-WINTER2021/Image Processing/JCOM/Datasets/HK_dataset/Deblurring-3/saved_images/val_deblurred{epoch}.jpg\")\n",
    "        val_loss = running_loss/len(dataloader.dataset)\n",
    "        print(f\"Val Loss: {val_loss:.5f}\")\n",
    "        \n",
    "        return val_loss"
   ]
  },
  {
   "cell_type": "code",
   "execution_count": 15,
   "id": "dff16ae6",
   "metadata": {},
   "outputs": [],
   "source": [
    "train_loss=[]\n",
    "val_loss=[]"
   ]
  },
  {
   "cell_type": "code",
   "execution_count": 17,
   "id": "ccf2192d",
   "metadata": {},
   "outputs": [
    {
     "name": "stdout",
     "output_type": "stream",
     "text": [
      "Epoch 1 of 10\n"
     ]
    },
    {
     "name": "stderr",
     "output_type": "stream",
     "text": [
      "100%|███████████████████████████████████| 52633/52633 [5:08:31<00:00,  2.84it/s]\n"
     ]
    },
    {
     "name": "stdout",
     "output_type": "stream",
     "text": [
      "Train Loss: 0.00356\n"
     ]
    },
    {
     "name": "stderr",
     "output_type": "stream",
     "text": [
      "17545it [41:24,  7.06it/s]                                                      \n"
     ]
    },
    {
     "name": "stdout",
     "output_type": "stream",
     "text": [
      "Val Loss: 0.00341\n",
      "Epoch 2 of 10\n"
     ]
    },
    {
     "name": "stderr",
     "output_type": "stream",
     "text": [
      "100%|███████████████████████████████████| 52633/52633 [3:55:22<00:00,  3.73it/s]\n"
     ]
    },
    {
     "name": "stdout",
     "output_type": "stream",
     "text": [
      "Train Loss: 0.00336\n"
     ]
    },
    {
     "name": "stderr",
     "output_type": "stream",
     "text": [
      "17545it [31:58,  9.14it/s]                                                      \n"
     ]
    },
    {
     "name": "stdout",
     "output_type": "stream",
     "text": [
      "Val Loss: 0.00331\n",
      "Epoch 3 of 10\n"
     ]
    },
    {
     "name": "stderr",
     "output_type": "stream",
     "text": [
      "100%|███████████████████████████████████| 52633/52633 [3:52:22<00:00,  3.77it/s]\n"
     ]
    },
    {
     "name": "stdout",
     "output_type": "stream",
     "text": [
      "Train Loss: 0.00333\n"
     ]
    },
    {
     "name": "stderr",
     "output_type": "stream",
     "text": [
      "17545it [32:02,  9.13it/s]                                                      \n"
     ]
    },
    {
     "name": "stdout",
     "output_type": "stream",
     "text": [
      "Val Loss: 0.00327\n",
      "Epoch 4 of 10\n"
     ]
    },
    {
     "name": "stderr",
     "output_type": "stream",
     "text": [
      "100%|███████████████████████████████████| 52633/52633 [4:21:59<00:00,  3.35it/s]\n"
     ]
    },
    {
     "name": "stdout",
     "output_type": "stream",
     "text": [
      "Train Loss: 0.00331\n"
     ]
    },
    {
     "name": "stderr",
     "output_type": "stream",
     "text": [
      "17545it [41:12,  7.09it/s]                                                      \n"
     ]
    },
    {
     "name": "stdout",
     "output_type": "stream",
     "text": [
      "Val Loss: 0.00324\n",
      "Epoch 5 of 10\n"
     ]
    },
    {
     "name": "stderr",
     "output_type": "stream",
     "text": [
      "100%|███████████████████████████████████| 52633/52633 [4:12:45<00:00,  3.47it/s]\n"
     ]
    },
    {
     "name": "stdout",
     "output_type": "stream",
     "text": [
      "Train Loss: 0.00330\n"
     ]
    },
    {
     "name": "stderr",
     "output_type": "stream",
     "text": [
      "17545it [40:06,  7.29it/s]                                                      \n"
     ]
    },
    {
     "name": "stdout",
     "output_type": "stream",
     "text": [
      "Val Loss: 0.00322\n",
      "Epoch 6 of 10\n"
     ]
    },
    {
     "name": "stderr",
     "output_type": "stream",
     "text": [
      "100%|███████████████████████████████████| 52633/52633 [4:57:59<00:00,  2.94it/s]\n"
     ]
    },
    {
     "name": "stdout",
     "output_type": "stream",
     "text": [
      "Train Loss: 0.00328\n"
     ]
    },
    {
     "name": "stderr",
     "output_type": "stream",
     "text": [
      "17545it [35:21,  8.27it/s]                                                      \n"
     ]
    },
    {
     "name": "stdout",
     "output_type": "stream",
     "text": [
      "Val Loss: 0.00325\n",
      "Epoch 7 of 10\n"
     ]
    },
    {
     "name": "stderr",
     "output_type": "stream",
     "text": [
      "100%|███████████████████████████████████| 52633/52633 [3:56:08<00:00,  3.71it/s]\n"
     ]
    },
    {
     "name": "stdout",
     "output_type": "stream",
     "text": [
      "Train Loss: 0.00327\n"
     ]
    },
    {
     "name": "stderr",
     "output_type": "stream",
     "text": [
      "17545it [32:52,  8.90it/s]                                                      \n"
     ]
    },
    {
     "name": "stdout",
     "output_type": "stream",
     "text": [
      "Val Loss: 0.00321\n",
      "Epoch 8 of 10\n"
     ]
    },
    {
     "name": "stderr",
     "output_type": "stream",
     "text": [
      "100%|███████████████████████████████████| 52633/52633 [7:03:45<00:00,  2.07it/s]\n"
     ]
    },
    {
     "name": "stdout",
     "output_type": "stream",
     "text": [
      "Train Loss: 0.00326\n"
     ]
    },
    {
     "name": "stderr",
     "output_type": "stream",
     "text": [
      "17545it [2:53:50,  1.68it/s]                                                    \n"
     ]
    },
    {
     "name": "stdout",
     "output_type": "stream",
     "text": [
      "Val Loss: 0.00327\n",
      "Epoch 9 of 10\n"
     ]
    },
    {
     "name": "stderr",
     "output_type": "stream",
     "text": [
      "100%|███████████████████████████████████| 52633/52633 [4:15:49<00:00,  3.43it/s]\n"
     ]
    },
    {
     "name": "stdout",
     "output_type": "stream",
     "text": [
      "Train Loss: 0.00325\n"
     ]
    },
    {
     "name": "stderr",
     "output_type": "stream",
     "text": [
      "17545it [45:13,  6.47it/s]                                                      \n"
     ]
    },
    {
     "name": "stdout",
     "output_type": "stream",
     "text": [
      "Val Loss: 0.00321\n",
      "Epoch 10 of 10\n"
     ]
    },
    {
     "name": "stderr",
     "output_type": "stream",
     "text": [
      "100%|███████████████████████████████████| 52633/52633 [4:46:46<00:00,  3.06it/s]\n"
     ]
    },
    {
     "name": "stdout",
     "output_type": "stream",
     "text": [
      "Train Loss: 0.00324\n"
     ]
    },
    {
     "name": "stderr",
     "output_type": "stream",
     "text": [
      "17545it [32:53,  8.89it/s]                                                      "
     ]
    },
    {
     "name": "stdout",
     "output_type": "stream",
     "text": [
      "Val Loss: 0.00321\n",
      "Took 3298.485 minutes to train\n"
     ]
    },
    {
     "name": "stderr",
     "output_type": "stream",
     "text": [
      "\n"
     ]
    }
   ],
   "source": [
    "start = time.time()\n",
    "for epoch in range(10):\n",
    "    print(f\"Epoch {epoch+1} of 10\")\n",
    "    train_epoch_loss = fit(model, trainloader, epoch)\n",
    "    val_epoch_loss = validate(model, valloader, epoch)\n",
    "    train_loss.append(train_epoch_loss)\n",
    "    val_loss.append(val_epoch_loss)\n",
    "    scheduler.step(val_epoch_loss)\n",
    "end = time.time()\n",
    "print(f\"Took {((end-start)/60):.3f} minutes to train\")"
   ]
  },
  {
   "cell_type": "code",
   "execution_count": 18,
   "id": "2ef1d077",
   "metadata": {},
   "outputs": [
    {
     "data": {
      "image/png": "[encoded data removed]",
      "text/plain": [
       "<Figure size 720x504 with 1 Axes>"
      ]
     },
     "metadata": {
      "needs_background": "light"
     },
     "output_type": "display_data"
    },
    {
     "name": "stdout",
     "output_type": "stream",
     "text": [
      "Saving model...\n"
     ]
    }
   ],
   "source": [
    "plt.figure(figsize=(10, 7))\n",
    "plt.plot(train_loss, color='orange', label='train loss')\n",
    "plt.plot(val_loss, color='red', label='validataion loss')\n",
    "plt.xlabel('Epochs')\n",
    "plt.ylabel('Loss')\n",
    "plt.legend()\n",
    "plt.savefig('/Users/narendraomprakash/Desktop/Narendra/Semester-VI-WINTER2021/Image Processing/JCOM/Datasets/HK_dataset/Deblurring-3/loss.png')\n",
    "plt.show()\n",
    "# save the model to disk\n",
    "print('Saving model...')\n",
    "torch.save(model.state_dict(), '/Users/narendraomprakash/Desktop/Narendra/Semester-VI-WINTER2021/Image Processing/JCOM/Datasets/HK_dataset/Deblurring-3/model.pth')"
   ]
  },
  {
   "cell_type": "code",
   "execution_count": null,
   "id": "60b07245",
   "metadata": {},
   "outputs": [],
   "source": []
  }
 ],
 "metadata": {
  "kernelspec": {
   "display_name": "Python 3 (ipykernel)",
   "language": "python",
   "name": "python3"
  },
  "language_info": {
   "codemirror_mode": {
    "name": "ipython",
    "version": 3
   },
   "file_extension": ".py",
   "mimetype": "text/x-python",
   "name": "python",
   "nbconvert_exporter": "python",
   "pygments_lexer": "ipython3",
   "version": "3.9.7"
  }
 },
 "nbformat": 4,
 "nbformat_minor": 5
}
